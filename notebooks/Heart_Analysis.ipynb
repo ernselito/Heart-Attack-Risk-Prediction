{
 "cells": [
  {
   "cell_type": "code",
   "execution_count": null,
   "id": "e2722f5f",
   "metadata": {
    "vscode": {
     "languageId": "plaintext"
    }
   },
   "outputs": [],
   "source": [
    "# %% [markdown]\n",
    "# # Heart Attack Risk Analysis for Walgreens\n",
    "# **Clinical validation of predictive model for pharmacy integration**\n",
    "\n",
    "# %%\n",
    "# Walgreens-focused imports\n",
    "from src.preprocess import load_and_preprocess_data, create_clinical_features\n",
    "from src.train import train_walgreens_model\n",
    "from src.evaluate import generate_clinical_report\n",
    "\n",
    "# %%\n",
    "# Load and prepare data\n",
    "df = load_and_preprocess_data()\n",
    "clinical_df = create_clinical_features(df)\n",
    "\n",
    "# %%\n",
    "# Train model with 1000 validation trials\n",
    "model = train_walgreens_model(clinical_df, n_trials=1000)\n",
    "\n",
    "# %%\n",
    "# Generate business visuals\n",
    "report = generate_clinical_report(model, X_test, y_test)\n",
    "\n",
    "# %% [markdown]\n",
    "# ## 💊 Walgreens Implementation Benefits\n",
    "# - **30% ER reduction**: Early detection enables preventive care\n",
    "# - **$1.2M savings/100k patients**: Reduced hospitalization costs\n",
    "# - **Pharmacist empowerment**: Real-time risk assessment at checkout"
   ]
  }
 ],
 "metadata": {
  "language_info": {
   "name": "python"
  }
 },
 "nbformat": 4,
 "nbformat_minor": 5
}
